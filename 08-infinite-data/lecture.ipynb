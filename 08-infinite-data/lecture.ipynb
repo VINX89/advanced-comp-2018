{
 "cells": [
  {
   "cell_type": "code",
   "execution_count": 1,
   "metadata": {
    "collapsed": true
   },
   "outputs": [],
   "source": [
    "%config InlineBackend.figure_format='retina'\n",
    "%matplotlib inline\n",
    "\n",
    "# Silence warnings\n",
    "import warnings\n",
    "warnings.simplefilter(action=\"ignore\", category=FutureWarning)\n",
    "warnings.simplefilter(action=\"ignore\", category=UserWarning)\n",
    "warnings.simplefilter(action=\"ignore\", category=RuntimeWarning)\n",
    "warnings.simplefilter(action='ignore', category=DeprecationWarning)\n",
    "\n",
    "import numpy as np\n",
    "np.random.seed(123)\n",
    "import matplotlib.pyplot as plt\n",
    "plt.rcParams[\"figure.figsize\"] = (8, 8)\n",
    "plt.rcParams[\"font.size\"] = 14"
   ]
  },
  {
   "cell_type": "markdown",
   "metadata": {},
   "source": [
    "# Finding duplicates\n"
   ]
  },
  {
   "cell_type": "code",
   "execution_count": 2,
   "metadata": {},
   "outputs": [
    {
     "name": "stdout",
     "output_type": "stream",
     "text": [
      "0.25\n"
     ]
    }
   ],
   "source": [
    "import random\n",
    "\n",
    "X = 1000\n",
    "D = 500\n",
    "\n",
    "queries = ['x%i' % i for i in range(X)] + ['d%i' % (i%D) for i in range(2*D)]\n",
    "print(D/len(queries))\n",
    "#queries"
   ]
  },
  {
   "cell_type": "code",
   "execution_count": 3,
   "metadata": {},
   "outputs": [],
   "source": [
    "sample = [query for query in queries if random.random() < 0.1]\n",
    "#sample"
   ]
  },
  {
   "cell_type": "code",
   "execution_count": 4,
   "metadata": {},
   "outputs": [
    {
     "name": "stdout",
     "output_type": "stream",
     "text": [
      "0.02564102564102564\n"
     ]
    },
    {
     "data": {
      "text/plain": [
       "0.0048543689320388345"
      ]
     },
     "execution_count": 4,
     "metadata": {},
     "output_type": "execute_result"
    }
   ],
   "source": [
    "from collections import Counter\n",
    "\n",
    "def duplicates(queries):\n",
    "    counts = Counter(queries)\n",
    "    dupes = []\n",
    "    for query,count in counts.items():\n",
    "        if count > 1:\n",
    "            dupes.append(query)\n",
    "    return len(dupes)\n",
    "\n",
    "print(D/(10*X + 19*D)) # from maths\n",
    "duplicates(sample) / len(sample)"
   ]
  },
  {
   "cell_type": "code",
   "execution_count": 5,
   "metadata": {},
   "outputs": [
    {
     "data": {
      "text/plain": [
       "[('mmnSewhxJR', 'x709'),\n",
       " ('rhfByriwTG', 'x271'),\n",
       " ('JwXmMdeCOb', 'd210'),\n",
       " ('teESXZTKMA', 'x581'),\n",
       " ('IypiDJuvns', 'x831'),\n",
       " ('iXSbaNZSEC', 'd199'),\n",
       " ('nJMUnFKVif', 'x191'),\n",
       " ('doqqJXggZR', 'x594'),\n",
       " ('SBPodUNRxQ', 'x798'),\n",
       " ('hWVmbOojLy', 'd40'),\n",
       " ('ZEkJkZxJkS', 'x736'),\n",
       " ('nbjtTzPbyf', 'd361'),\n",
       " ('ovSRuvVDeW', 'x930'),\n",
       " ('zLQNBJVoOB', 'd482'),\n",
       " ('TypTsNzcie', 'd101'),\n",
       " ('nbjtTzPbyf', 'd424'),\n",
       " ('TypTsNzcie', 'd364'),\n",
       " ('jvHkNmUXoL', 'd324'),\n",
       " ('gfdgxhhHjE', 'd94'),\n",
       " ('ctHfeMQCUb', 'x553'),\n",
       " ('ctHfeMQCUb', 'x418'),\n",
       " ('FUDKxFiFPB', 'd140'),\n",
       " ('APLdgTIPUT', 'x889'),\n",
       " ('mmnSewhxJR', 'x295'),\n",
       " ('teESXZTKMA', 'd395'),\n",
       " ('vjHLNmxAvC', 'd489'),\n",
       " ('SBPodUNRxQ', 'd185'),\n",
       " ('doqqJXggZR', 'x482'),\n",
       " ('IypiDJuvns', 'd200'),\n",
       " ('vjHLNmxAvC', 'x203')]"
      ]
     },
     "execution_count": 5,
     "metadata": {},
     "output_type": "execute_result"
    }
   ],
   "source": [
    "# sample users, not queries\n",
    "# pick a fraction (say one tenth) of users and collect all their queries\n",
    "import string\n",
    "\n",
    "X = 1000\n",
    "D = 500\n",
    "U = 50\n",
    "\n",
    "queries = []\n",
    "\n",
    "for u in range(U):\n",
    "    # our users need a name!\n",
    "    name = ''.join([random.choice(string.ascii_letters) for _ in range(10)])\n",
    "    queries.extend([(name, 'x%i' % i) for i in range(X)] +\n",
    "                   [(name, 'd%i' % (i%D)) for i in range(2*D)])\n",
    "\n",
    "random.shuffle(queries)\n",
    "queries[:30] # 30 random (user, query) pairs"
   ]
  },
  {
   "cell_type": "markdown",
   "metadata": {},
   "source": [
    "## Hash functions\n",
    "\n",
    "We need a way to map from a username to some kind of numerical ID.\n",
    "How do we do this? Especially if we don't know how many users there are? Need a function\n",
    "that maps arbitrary inputs to a defined range of integers."
   ]
  },
  {
   "cell_type": "code",
   "execution_count": 6,
   "metadata": {},
   "outputs": [
    {
     "name": "stdout",
     "output_type": "stream",
     "text": [
      "2095282958 2892697151 374763764 1284432482\n"
     ]
    }
   ],
   "source": [
    "from sklearn.utils import murmurhash3_32\n",
    "\n",
    "# python's builtin hash function isn't even approximately random\n",
    "def hash_(n, seed=1):\n",
    "    return murmurhash3_32(n, seed=seed, positive=True)\n",
    "\n",
    "print(hash_(\"tim\"), hash_(\"jim\"), hash_(\"fred\"), hash_(\"joe\"))"
   ]
  },
  {
   "cell_type": "markdown",
   "metadata": {},
   "source": [
    "`hash_(item)` produces a 'random' number between `0` and `2**32-1`\n",
    "the output is uniformly distributed and the same input will always produce the same output. Designing hash functions could be the topic of a whole lecture ... let's just assume they work and are a piece of magic handed down to us."
   ]
  },
  {
   "cell_type": "code",
   "execution_count": 7,
   "metadata": {},
   "outputs": [
    {
     "data": {
      "text/plain": [
       "0.25"
      ]
     },
     "execution_count": 7,
     "metadata": {},
     "output_type": "execute_result"
    }
   ],
   "source": [
    "# hash name into ten buckets, pick all users that fall into bucket 1\n",
    "\n",
    "sample = []\n",
    "for (user, query) in queries:\n",
    "    if (hash_(user) % 10) == 0:\n",
    "        sample.append((user,query))\n",
    "    \n",
    "duplicates(sample) / len(sample)"
   ]
  },
  {
   "cell_type": "code",
   "execution_count": 8,
   "metadata": {},
   "outputs": [
    {
     "data": {
      "text/plain": [
       "{'JwXmMdeCOb',\n",
       " 'NBvsidKvsr',\n",
       " 'YrFfTKatNa',\n",
       " 'ZDNvLVFGYi',\n",
       " 'eyjfYtwvsS',\n",
       " 'zLQNBJVoOB'}"
      ]
     },
     "execution_count": 8,
     "metadata": {},
     "output_type": "execute_result"
    }
   ],
   "source": [
    "# the bucket will contain approximately five users\n",
    "set([x[0] for x in sample])"
   ]
  },
  {
   "cell_type": "markdown",
   "metadata": {},
   "source": [
    "## Approximate answers\n",
    "\n",
    "Often approximate answers are plenty good enough. Especially if you can compute a bound on the size of the mistake. And even more so if the alternative is getting no answer because your data is infinite!\n",
    "\n",
    "Approximate is different from random subsampling:"
   ]
  },
  {
   "cell_type": "code",
   "execution_count": 9,
   "metadata": {
    "collapsed": true
   },
   "outputs": [],
   "source": [
    "x = [random.randint(0, 2e9) for _ in range(5000)]\n",
    "\n",
    "y = [i>>8 for i in x]"
   ]
  },
  {
   "cell_type": "code",
   "execution_count": 10,
   "metadata": {},
   "outputs": [
    {
     "data": {
      "text/plain": [
       "'0b111100110000110000001011010001'"
      ]
     },
     "execution_count": 10,
     "metadata": {},
     "output_type": "execute_result"
    }
   ],
   "source": [
    "# remove the last 8bits from the integers\n",
    "bin(x[0])"
   ]
  },
  {
   "cell_type": "code",
   "execution_count": 11,
   "metadata": {},
   "outputs": [
    {
     "data": {
      "text/plain": [
       "('0b1111001100001100000010', '0b1111001100001100000010')"
      ]
     },
     "execution_count": 11,
     "metadata": {},
     "output_type": "execute_result"
    }
   ],
   "source": [
    "bin(x[0]>>8), bin(x[0])[:-8]"
   ]
  },
  {
   "cell_type": "code",
   "execution_count": 12,
   "metadata": {},
   "outputs": [
    {
     "data": {
      "text/plain": [
       "(1019413201, 3982082)"
      ]
     },
     "execution_count": 12,
     "metadata": {},
     "output_type": "execute_result"
    }
   ],
   "source": [
    "(x[0], x[0]>>8)"
   ]
  },
  {
   "cell_type": "code",
   "execution_count": 13,
   "metadata": {},
   "outputs": [
    {
     "name": "stdout",
     "output_type": "stream",
     "text": [
      "1013177229.9822 1013177102.1824 1.261376551470496e-05\n"
     ]
    }
   ],
   "source": [
    "mean_x = sum(x) / len(x)\n",
    "mean_y = sum(y) / len(y) * 2**8\n",
    "\n",
    "# compare the two answers and the fractional difference between the two\n",
    "print(mean_x, mean_y, 100*(mean_x-mean_y)/mean_x)"
   ]
  },
  {
   "cell_type": "markdown",
   "metadata": {},
   "source": [
    "## Coin flips\n",
    "\n",
    "You can estimate the number of times someone flipped a coin by keeping track of the longest run of \"heads\":"
   ]
  },
  {
   "cell_type": "code",
   "execution_count": 14,
   "metadata": {
    "collapsed": true
   },
   "outputs": [],
   "source": [
    "def generate_coinflips(num):\n",
    "    return [random.choice([0, 1]) for i in range(num)]\n",
    "\n",
    "def longest_run_zero(x):\n",
    "    i = 0\n",
    "    count = 0\n",
    "    max_count = 0\n",
    "    while i < len(x):\n",
    "        if x[i] == 0:\n",
    "            count += 1\n",
    "        else:\n",
    "            if count > max_count:\n",
    "                max_count = count\n",
    "            count = 0\n",
    "        i += 1\n",
    "        \n",
    "    return max_count\n",
    "\n",
    "\n",
    "def longest_run_mc(flips, repeats):\n",
    "    z = []\n",
    "    for i in range(repeats):\n",
    "        x = generate_coinflips(flips)\n",
    "        count = longest_run_zero(x)\n",
    "        z.append(count)\n",
    "        \n",
    "    return z"
   ]
  },
  {
   "cell_type": "code",
   "execution_count": 15,
   "metadata": {},
   "outputs": [
    {
     "name": "stdout",
     "output_type": "stream",
     "text": [
      "6.643856189774725\n"
     ]
    },
    {
     "data": {
      "image/png": "[encoded data removed]",
      "text/plain": [
       "<matplotlib.figure.Figure at 0x7f5ad87a5e48>"
      ]
     },
     "metadata": {
      "image/png": {
       "height": 472,
       "width": 496
      }
     },
     "output_type": "display_data"
    }
   ],
   "source": [
    "d = longest_run_mc(100, 1000)\n",
    "plt.hist(d, bins=max(d), range=(0, max(d)))\n",
    "\n",
    "import math\n",
    "# we expect a peak right around...\n",
    "print(math.log(100, 2))"
   ]
  },
  {
   "cell_type": "code",
   "execution_count": 16,
   "metadata": {},
   "outputs": [
    {
     "name": "stdout",
     "output_type": "stream",
     "text": [
      "8.965784284662087\n"
     ]
    },
    {
     "data": {
      "image/png": "[encoded data removed]",
      "text/plain": [
       "<matplotlib.figure.Figure at 0x7f5acbcad160>"
      ]
     },
     "metadata": {
      "image/png": {
       "height": 472,
       "width": 496
      }
     },
     "output_type": "display_data"
    }
   ],
   "source": [
    "# flip 500 times in a row\n",
    "d = longest_run_mc(500, 1000)\n",
    "plt.hist(d, bins=max(d), range=(0, max(d)))\n",
    "\n",
    "import math\n",
    "# we expect a peak right around...\n",
    "print(math.log(500, 2))"
   ]
  },
  {
   "cell_type": "code",
   "execution_count": null,
   "metadata": {
    "collapsed": true
   },
   "outputs": [],
   "source": []
  }
 ],
 "metadata": {
  "kernelspec": {
   "display_name": "Python 3",
   "language": "python",
   "name": "python3"
  },
  "language_info": {
   "codemirror_mode": {
    "name": "ipython",
    "version": 3
   },
   "file_extension": ".py",
   "mimetype": "text/x-python",
   "name": "python",
   "nbconvert_exporter": "python",
   "pygments_lexer": "ipython3",
   "version": "3.6.1"
  }
 },
 "nbformat": 4,
 "nbformat_minor": 2
}
